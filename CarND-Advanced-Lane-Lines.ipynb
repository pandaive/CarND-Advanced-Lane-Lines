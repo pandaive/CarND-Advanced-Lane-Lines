{
 "cells": [
  {
   "cell_type": "code",
   "execution_count": 8,
   "metadata": {
    "collapsed": false,
    "deletable": true,
    "editable": true
   },
   "outputs": [],
   "source": [
    "import numpy as np\n",
    "import cv2\n",
    "import matplotlib.pyplot as plt\n",
    "import glob\n",
    "import pickle\n",
    "import threshold\n",
    "import find_lane_lines as finder\n",
    "import curvature_measurement as cm\n",
    "import draw_lane as dl\n",
    "import transform_perspective as trp\n",
    "import warp\n",
    "\n",
    "M = pickle.load(open( \"perspectiveTransformMatrix.p\", \"rb\" ))\n",
    "Minv = pickle.load(open( \"oppositePerspectiveTransformMatrix.p\", \"rb\" ))\n",
    "\n",
    "dist_pickle = pickle.load( open( \"calibration.p\", \"rb\" ) )\n",
    "mtx = dist_pickle[0]\n",
    "dist = dist_pickle[1]"
   ]
  },
  {
   "cell_type": "code",
   "execution_count": 2,
   "metadata": {
    "collapsed": true,
    "deletable": true,
    "editable": true
   },
   "outputs": [],
   "source": [
    "def show_gray(images):\n",
    "    for im in images:\n",
    "        plt.figure()\n",
    "        plt.imshow(im, cmap='gray')\n",
    "\n",
    "def show(images):\n",
    "    for im in images:\n",
    "        plt.figure()\n",
    "        plt.imshow(im)"
   ]
  },
  {
   "cell_type": "code",
   "execution_count": null,
   "metadata": {
    "collapsed": false,
    "deletable": true,
    "editable": true
   },
   "outputs": [],
   "source": [
    "\n",
    "\n",
    "test_images = glob.glob('test_images/*')\n",
    "images = []\n",
    "for i, filename in enumerate(test_images):\n",
    "    img = cv2.imread(filename)\n",
    "    dst = cv2.undistort(img, mtx, dist, None, mtx)\n",
    "    images.append(dst)\n",
    "    #plt.figure()\n",
    "    #plt.imshow(dst)\n",
    "#plt.show()"
   ]
  },
  {
   "cell_type": "code",
   "execution_count": null,
   "metadata": {
    "collapsed": false,
    "deletable": true,
    "editable": true
   },
   "outputs": [],
   "source": [
    "thresholded_images = []\n",
    "for image in images:\n",
    "    thr = threshold.process_image(image)\n",
    "    thresholded_images.append(thr)\n",
    "    #show_gray([thr])\n",
    "#plt.show()"
   ]
  },
  {
   "cell_type": "code",
   "execution_count": null,
   "metadata": {
    "collapsed": false,
    "deletable": true,
    "editable": true
   },
   "outputs": [],
   "source": [
    "M = pickle.load(open( \"perspectiveTransformMatrix.p\", \"rb\" ))\n",
    "import transform_perspective as trp\n",
    "transformed_images = []\n",
    "for image in thresholded_images:\n",
    "    imshape = image.shape\n",
    "    trf = trp.transform(image, M)\n",
    "    transformed_images.append(trf)\n",
    "    show_gray([trf])\n",
    "plt.show()"
   ]
  },
  {
   "cell_type": "code",
   "execution_count": null,
   "metadata": {
    "collapsed": false,
    "deletable": true,
    "editable": true
   },
   "outputs": [],
   "source": [
    "measurements = []\n",
    "for image in transformed_images:\n",
    "    ploty, left_fitx, right_fitx = finder.find(image)\n",
    "    measurements.append([ploty, left_fitx, right_fitx])\n",
    "plt.show()"
   ]
  },
  {
   "cell_type": "code",
   "execution_count": null,
   "metadata": {
    "collapsed": false,
    "deletable": true,
    "editable": true
   },
   "outputs": [],
   "source": [
    "for m in measurements:\n",
    "    print(cm.measure(m[0], m[1], m[2]))"
   ]
  },
  {
   "cell_type": "code",
   "execution_count": null,
   "metadata": {
    "collapsed": false,
    "deletable": true,
    "editable": true
   },
   "outputs": [],
   "source": [
    "Minv = pickle.load(open( \"oppositePerspectiveTransformMatrix.p\", \"rb\" ))\n",
    "i = 0\n",
    "image = images[i]\n",
    "warped = transformed_images[i]\n",
    "m = measurements[i]\n",
    "ploty, left_fitx, right_fitx = m[0], m[1], m[2]\n",
    "\n",
    "result = dl.draw(image, warped, ploty, left_fitx, right_fitx, Minv)\n",
    "plt.imshow(result)\n",
    "plt.show()"
   ]
  },
  {
   "cell_type": "code",
   "execution_count": 6,
   "metadata": {
    "collapsed": true,
    "deletable": true,
    "editable": true
   },
   "outputs": [],
   "source": [
    "def process(image):\n",
    "    dst = cv2.undistort(image, mtx, dist, None, mtx)\n",
    "    transformed = trp.transform(dst, M)\n",
    "    thresholded = threshold.process_image(transformed)\n",
    "    warped = warp.process(thresholded)\n",
    "    imshape = image.shape\n",
    "    ploty, left_fitx, right_fitx, ret = finder.find(warped)\n",
    "    if ret == False:\n",
    "        return image\n",
    "    measurements = cm.measure(ploty, left_fitx, right_fitx)\n",
    "    result = dl.draw(image, warped, ploty, left_fitx, right_fitx, Minv)\n",
    "    return transformed"
   ]
  },
  {
   "cell_type": "code",
   "execution_count": null,
   "metadata": {
    "collapsed": false,
    "deletable": true,
    "editable": true
   },
   "outputs": [
    {
     "name": "stdout",
     "output_type": "stream",
     "text": [
      "[MoviePy] >>>> Building video out1.mp4\n",
      "[MoviePy] Writing video out1.mp4\n"
     ]
    },
    {
     "name": "stderr",
     "output_type": "stream",
     "text": [
      " 36%|███▌      | 454/1261 [02:42<04:47,  2.80it/s]"
     ]
    }
   ],
   "source": [
    "from moviepy.editor import VideoFileClip\n",
    "from IPython.display import HTML\n",
    "\n",
    "output = 'out1.mp4'\n",
    "clip1 = VideoFileClip(\"project_video.mp4\")\n",
    "#clip1 = VideoFileClip(\"challenge_video.mp4\")\n",
    "white_clip = clip1.fl_image(process) #NOTE: this function expects color images!!\n",
    "%time white_clip.write_videofile(output, audio=False)"
   ]
  },
  {
   "cell_type": "code",
   "execution_count": null,
   "metadata": {
    "collapsed": false,
    "deletable": true,
    "editable": true
   },
   "outputs": [],
   "source": [
    "'''''\n",
    "    a = (210,imshape[0]-50)\n",
    "    b = ((imshape[1]/2)-180, 520)\n",
    "    c = ((imshape[1]/2)+180, 520)\n",
    "    d = (imshape[1]-210,imshape[0]-50)\n",
    "    \n",
    "    a = (190,imshape[0])\n",
    "    b = ((imshape[1]/2)-35, 440)\n",
    "    c = ((imshape[1]/2)+35, 440)\n",
    "    d = (imshape[1]-160,imshape[0])\n",
    "'''''\n",
    "\n",
    "#perspective transform\n",
    "def region_of_interest(img, vertices):\n",
    "    mask = np.zeros_like(img)   \n",
    "    if len(img.shape) > 2:\n",
    "        channel_count = img.shape[2]\n",
    "        ignore_mask_color = (255,) * channel_count\n",
    "    else:\n",
    "        ignore_mask_color = 255\n",
    "    cv2.fillPoly(mask, vertices, ignore_mask_color)\n",
    "    masked_image = cv2.bitwise_and(img, mask)\n",
    "    return masked_image\n",
    "\n",
    "transformed_images = []\n",
    "for i, image in enumerate(thresholded_images):\n",
    "    imshape = image.shape\n",
    "    a = (270,imshape[0]-50)\n",
    "    b = ((imshape[1]/2)-125, 500)\n",
    "    c = ((imshape[1]/2)+140, 500)\n",
    "    d = (imshape[1]-240,imshape[0]-50)\n",
    "    vertices = np.array([[a, b, c, d]], dtype=np.int32)\n",
    "    src = np.array([[a, b, c, d]], dtype=np.float32)\n",
    "    selected = region_of_interest(image, vertices)\n",
    "    offsetx = 400\n",
    "    offsety = 0\n",
    "    dst = np.float32([[offsetx,imshape[0]-offsety], \n",
    "                      [offsetx,offsety], \n",
    "                      [imshape[1]-offsetx, offsety], \n",
    "                      [imshape[1]-offsetx, imshape[0]-offsety]])\n",
    "    M = cv2.getPerspectiveTransform(src, dst)\n",
    "    warped = cv2.warpPerspective(image, M, (imshape[1], imshape[0]), flags=cv2.INTER_LINEAR)\n",
    "    transformed_images.append(warped)\n",
    "    plt.figure()\n",
    "    plt.imshow(images[i])\n",
    "    plt.figure()\n",
    "    plt.imshow(warped, cmap='gray')\n",
    "    #plt.imshow(selected)\n",
    "    #break\n",
    "plt.show()"
   ]
  },
  {
   "cell_type": "code",
   "execution_count": null,
   "metadata": {
    "collapsed": true,
    "deletable": true,
    "editable": true
   },
   "outputs": [],
   "source": []
  }
 ],
 "metadata": {
  "anaconda-cloud": {},
  "kernelspec": {
   "display_name": "Python 3",
   "language": "python",
   "name": "python3"
  },
  "language_info": {
   "codemirror_mode": {
    "name": "ipython",
    "version": 3
   },
   "file_extension": ".py",
   "mimetype": "text/x-python",
   "name": "python",
   "nbconvert_exporter": "python",
   "pygments_lexer": "ipython3",
   "version": "3.5.3"
  }
 },
 "nbformat": 4,
 "nbformat_minor": 1
}
